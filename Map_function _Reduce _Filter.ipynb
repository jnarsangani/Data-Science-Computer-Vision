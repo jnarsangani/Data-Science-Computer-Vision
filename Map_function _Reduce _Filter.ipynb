{
 "cells": [
  {
   "cell_type": "code",
   "execution_count": 5,
   "metadata": {},
   "outputs": [
    {
     "name": "stdout",
     "output_type": "stream",
     "text": [
      "[25, 57, 50, 101, 77, 8]\n"
     ]
    },
    {
     "data": {
      "text/plain": [
       "[25, 57, 50, 101, 77, 8]"
      ]
     },
     "execution_count": 5,
     "metadata": {},
     "output_type": "execute_result"
    }
   ],
   "source": [
    "#function \n",
    "l =[23,55,48,99,75,6]\n",
    "l1 = []\n",
    "for i in l:\n",
    "    l1.append(i+2)\n",
    "        \n",
    "print(l1)\n",
    "\n",
    "[i+2 for i in l]"
   ]
  },
  {
   "cell_type": "code",
   "execution_count": 9,
   "metadata": {},
   "outputs": [
    {
     "data": {
      "text/plain": [
       "<map at 0x2738ce20040>"
      ]
     },
     "execution_count": 9,
     "metadata": {},
     "output_type": "execute_result"
    }
   ],
   "source": [
    "#Map is inbuilt function\n",
    "# takes 2 arguments function and  iterable argument\n",
    "#in map u can pass itterable object\n",
    "# it will go through one by one in the list and map the defination of fuction on each element\n",
    "\n",
    "def add_numb(n):\n",
    "    return n+2\n",
    "\n",
    "list(map(add_numb,l)) # here the return type is list\n"
   ]
  },
  {
   "cell_type": "code",
   "execution_count": 11,
   "metadata": {},
   "outputs": [
    {
     "data": {
      "text/plain": [
       "[25, 57, 50, 101, 77, 8]"
      ]
     },
     "execution_count": 11,
     "metadata": {},
     "output_type": "execute_result"
    }
   ],
   "source": [
    "list((map(lambda a:a+2,l )))\n"
   ]
  },
  {
   "cell_type": "code",
   "execution_count": 21,
   "metadata": {},
   "outputs": [
    {
     "data": {
      "text/plain": [
       "['2', '6', '4', 'abc', '6', 'def']"
      ]
     },
     "execution_count": 21,
     "metadata": {},
     "output_type": "execute_result"
    }
   ],
   "source": [
    "#convert to data into string write function using map\n",
    "l =[2,6,4,\"abc\",6,\"def\"]\n",
    "\n",
    "list(map(lambda a:str(a),l))"
   ]
  },
  {
   "cell_type": "code",
   "execution_count": 31,
   "metadata": {},
   "outputs": [
    {
     "name": "stdout",
     "output_type": "stream",
     "text": [
      "[4, 8, 6, 'abcok', 8, 'defok']\n"
     ]
    },
    {
     "data": {
      "text/plain": [
       "[4, 8, 6, 'abcok', 8, 'defok']"
      ]
     },
     "execution_count": 31,
     "metadata": {},
     "output_type": "execute_result"
    }
   ],
   "source": [
    "# if data is string concate \"OK\" to data else add 2 (here for loop not required as map when calling applies the same function on each element)\n",
    "\n",
    "def str_con(i):\n",
    "    if type(i)==str:\n",
    "            i= i+ \"ok\"\n",
    "    else:\n",
    "            i = i+2\n",
    "    return i\n",
    "    \n",
    "    \n",
    "print(list(map(str_con,l)))\n",
    "\n",
    "#same in other way using lamada\n",
    "\n",
    "list(map(lambda a : a+\"ok\" if type(a)==str else a+2, l))"
   ]
  },
  {
   "cell_type": "code",
   "execution_count": 44,
   "metadata": {},
   "outputs": [
    {
     "name": "stdout",
     "output_type": "stream",
     "text": [
      "64\n",
      "64\n"
     ]
    },
    {
     "data": {
      "text/plain": [
       "64"
      ]
     },
     "execution_count": 44,
     "metadata": {},
     "output_type": "execute_result"
    }
   ],
   "source": [
    "# Here we are adding all numbers in list\n",
    "l =[4,58,2]\n",
    "\n",
    "def add_fun():\n",
    "    a=0\n",
    "    for i in l:\n",
    "        a =a+i\n",
    "    return a\n",
    "\n",
    "\n",
    "print(add_fun())\n",
    "\n",
    "# For this operation there is an inbuilt function REDUCE\n",
    "\n",
    "from functools import reduce\n",
    "print(reduce(lambda a,b :a+b, l)) # for string data str(a) + str(b)\n",
    "    \n",
    "\n",
    "#or\n",
    "\n",
    "def addi(a,b):\n",
    "    return a+b\n",
    "\n",
    "reduce(addi,l)\n",
    "\n",
    "#here in l [[4,58,2] a=4 b =58 a+b = 62 again a=62 and b =2"
   ]
  },
  {
   "cell_type": "code",
   "execution_count": 45,
   "metadata": {},
   "outputs": [
    {
     "data": {
      "text/plain": [
       "9"
      ]
     },
     "execution_count": 45,
     "metadata": {},
     "output_type": "execute_result"
    }
   ],
   "source": [
    "# to find max value using reduce\n",
    "#REDUCE MEANS tries to reduce the size of dataset and give one value\n",
    "l =[4,5,9]\n",
    "reduce (lambda a ,b : a if a>b else b, l) # here a will be retuned if a>b else b\n",
    "\n",
    "# here it dosent take third argument only 2 a,b if u add c it will not take eg reduce(lmabda a,b,c :a+b+c,l) this will not work\n",
    "\n"
   ]
  },
  {
   "cell_type": "code",
   "execution_count": 49,
   "metadata": {},
   "outputs": [
    {
     "name": "stdout",
     "output_type": "stream",
     "text": [
      "[2, 3, 4, 'hpp', 9]\n"
     ]
    },
    {
     "data": {
      "text/plain": [
       "['hpp']"
      ]
     },
     "execution_count": 49,
     "metadata": {},
     "output_type": "execute_result"
    }
   ],
   "source": [
    "#FILTER FUNCTION \n",
    "# This will give data for iterable object for only conditions that are MET or CODITIONS are true\n",
    "#It accepts the return type as TRUE OR FALSE\n",
    "l =[2,3,4,\"hpp\",9]\n",
    "def test(i):\n",
    "    if type(i)== str:\n",
    "        return i\n",
    "    else:\n",
    "        return \"ok\"\n",
    "    \n",
    "print(list(filter(test,l)))\n",
    "\n",
    "# This will not work it will give the all the elments of list\n",
    "\n",
    "#Below is the correct Way it accepts true and false \n",
    "#also if returm'S ONLY THE VALUE FOR TRUE CONDITION\"S\n",
    "#Awalys have to write function that retuns boolean value true and false\n",
    "\n",
    "def test_correct(i):\n",
    "    if type(i)== str:\n",
    "        return True\n",
    "    else:\n",
    "        return False\n",
    "    \n",
    "list(filter(test_correct,l))"
   ]
  },
  {
   "cell_type": "code",
   "execution_count": 56,
   "metadata": {},
   "outputs": [
    {
     "name": "stdout",
     "output_type": "stream",
     "text": [
      "['SOORY']\n"
     ]
    },
    {
     "data": {
      "text/plain": [
       "['SOORY']"
      ]
     },
     "execution_count": 56,
     "metadata": {},
     "output_type": "execute_result"
    }
   ],
   "source": [
    "#trying to use filter function to find the elments that start with \"S\"\n",
    "l =[2,3,4,\"hpp\",9, \"SOORY\"]\n",
    "def test_correct2(i):\n",
    "    if type(i)== str:\n",
    "        if i[0] =='S':      \n",
    "            return True\n",
    "    else:\n",
    "        return False\n",
    "    \n",
    "print(list(filter(test_correct2,l)))\n",
    "\n",
    "#other method\n",
    "\n",
    "list(filter(lambda a : True if type(a)==str and a.startswith('S') else False,l)) # startswith is case sensitive"
   ]
  },
  {
   "cell_type": "code",
   "execution_count": 67,
   "metadata": {},
   "outputs": [
    {
     "name": "stdout",
     "output_type": "stream",
     "text": [
      "14string\n",
      "1\n",
      "14string\n"
     ]
    }
   ],
   "source": [
    "#Use Reduce function to concate the str \n",
    "# as we know reduce takes 2 arguments\n",
    "l=[1,4,\"string\"]\n",
    "\n",
    "def conca_fun(a,b):\n",
    "       return str(a) +str(b)\n",
    "    \n",
    "print(reduce(conca_fun,l))\n",
    "\n",
    "\n",
    "# if the list is empty for empty function it will give error\n",
    "# it should atleast have one argument that means list should atleast have one element\n",
    "\n",
    "B=[1]\n",
    "\n",
    "def conca_fun_one(a,b):\n",
    "       return str(a) +str(b)\n",
    "    \n",
    "print(reduce(conca_fun_one,B))\n",
    "\n",
    "#using functiontools\n",
    "import functools \n",
    "print(functools.reduce(lambda a,b: str(a) + str(b),l))"
   ]
  }
 ],
 "metadata": {
  "kernelspec": {
   "display_name": "Python 3",
   "language": "python",
   "name": "python3"
  },
  "language_info": {
   "codemirror_mode": {
    "name": "ipython",
    "version": 3
   },
   "file_extension": ".py",
   "mimetype": "text/x-python",
   "name": "python",
   "nbconvert_exporter": "python",
   "pygments_lexer": "ipython3",
   "version": "3.8.5"
  }
 },
 "nbformat": 4,
 "nbformat_minor": 4
}
