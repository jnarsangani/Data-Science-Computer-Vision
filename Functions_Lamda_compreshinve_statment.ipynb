{
 "cells": [
  {
   "cell_type": "code",
   "execution_count": 2,
   "metadata": {},
   "outputs": [
    {
     "data": {
      "text/plain": [
       "2"
      ]
     },
     "execution_count": 2,
     "metadata": {},
     "output_type": "execute_result"
    }
   ],
   "source": [
    "#Functions\n",
    "# In build Fuctions\n",
    "l=\"hi\"\n",
    "len(l)\n",
    "\n",
    "# Print is also a function"
   ]
  },
  {
   "cell_type": "code",
   "execution_count": 5,
   "metadata": {},
   "outputs": [
    {
     "data": {
      "text/plain": [
       "<function __main__.hello_world()>"
      ]
     },
     "execution_count": 5,
     "metadata": {},
     "output_type": "execute_result"
    }
   ],
   "source": [
    "# Why Function\n",
    "    #For its reausablity\n",
    "\n",
    "# How to Create\n",
    "    # def Keyword for function \n",
    "    # Function Name\n",
    "    # Use Paranthenses\n",
    "    # Shift and Enter \n",
    "\n",
    "def hello_world():\n",
    "    pass # here have not specified what to do so have used Pass\n",
    "\n",
    "#calling the function\n",
    "hello_world # output :<function __main__.hello_world()> (it says its a function)"
   ]
  },
  {
   "cell_type": "code",
   "execution_count": 8,
   "metadata": {},
   "outputs": [
    {
     "name": "stdout",
     "output_type": "stream",
     "text": [
      "Hello world\n",
      "Hello world\n",
      "Hello world\n",
      "Hello world\n"
     ]
    }
   ],
   "source": [
    "#defining the function\n",
    "def hello_world():\n",
    "    print(\"Hello world\") # this is the body of function\n",
    "    \n",
    "#calling the function\n",
    "hello_world()\n",
    "\n",
    "#calling the function mulitple times \n",
    "\n",
    "for i in range(3):\n",
    "    hello_world()\n"
   ]
  },
  {
   "cell_type": "code",
   "execution_count": 9,
   "metadata": {},
   "outputs": [
    {
     "name": "stdout",
     "output_type": "stream",
     "text": [
      "Hello World\n"
     ]
    }
   ],
   "source": [
    "# Defining the function with body and Accepting parameter\n",
    "\n",
    "def hello_world(a):\n",
    "    print(a)\n",
    "    \n",
    "# Calling the function so we need to pass a parameter as its accepting parameter\n",
    "\n",
    "b=\"Hello World\"\n",
    "\n",
    "hello_world(b)"
   ]
  },
  {
   "cell_type": "code",
   "execution_count": 12,
   "metadata": {},
   "outputs": [
    {
     "name": "stdout",
     "output_type": "stream",
     "text": [
      "Did u  Have Fun Leaning\n",
      "Did u  Yes\n"
     ]
    }
   ],
   "source": [
    "# Defining the function with body and Accepting parameter and assinging values\n",
    "\n",
    "def test(a,b =\"Have Fun Leaning\"):\n",
    "    print(a,b)\n",
    "\n",
    "    \n",
    "c = \"Did u \"\n",
    "\n",
    "#Ways of calling function with different option\n",
    "test(c)\n",
    "test(c,\"Yes\") # It will take this value mentioned for second parameter\n"
   ]
  },
  {
   "cell_type": "code",
   "execution_count": 15,
   "metadata": {},
   "outputs": [
    {
     "name": "stdout",
     "output_type": "stream",
     "text": [
      "Did u  Have Fun Leaning\n",
      "Did u  Yes\n"
     ]
    },
    {
     "data": {
      "text/plain": [
       "<function __main__.test(a, b='Have Fun Leaning')>"
      ]
     },
     "execution_count": 15,
     "metadata": {},
     "output_type": "execute_result"
    }
   ],
   "source": [
    "# Creating a documentation for function DOC STRING\n",
    "    #it can give idea of what it was created\n",
    "    #Know as DOC String\n",
    "    #Written in \"\"\" Tripple code\n",
    "    \n",
    "def test(a,b =\"Have Fun Leaning\"):\n",
    "    \"\"\"This Function is written for just for an example\"\"\"\n",
    "    print(a,b)\n",
    "    \n",
    "c = \"Did u \"\n",
    "\n",
    "#Ways of calling function with different option\n",
    "test(c)\n",
    "test(c,\"Yes\") # It will take this value mentioned for second parameter\n",
    "test"
   ]
  },
  {
   "cell_type": "code",
   "execution_count": 16,
   "metadata": {},
   "outputs": [
    {
     "name": "stdout",
     "output_type": "stream",
     "text": [
      "Did u  Yes\n"
     ]
    },
    {
     "data": {
      "text/plain": [
       "NoneType"
      ]
     },
     "execution_count": 16,
     "metadata": {},
     "output_type": "execute_result"
    }
   ],
   "source": [
    "#Finding the type of function\n",
    "    #Here its returning NONETYPE\n",
    "type(test(c,\"Yes\")) "
   ]
  },
  {
   "cell_type": "code",
   "execution_count": 19,
   "metadata": {},
   "outputs": [
    {
     "name": "stdout",
     "output_type": "stream",
     "text": [
      "Did u  Yes\n"
     ]
    },
    {
     "data": {
      "text/plain": [
       "'Nonewill it work'"
      ]
     },
     "execution_count": 19,
     "metadata": {},
     "output_type": "execute_result"
    }
   ],
   "source": [
    "#this will not work as its nontype\n",
    "#type(test(c,\"Yes\"))  + \"will it work\"\n",
    "\n",
    "#converting to string with str but it will NOT work OUTPUT: will give Nonewill it work\n",
    "str(test(c,\"Yes\"))  + \"will it work\""
   ]
  },
  {
   "cell_type": "code",
   "execution_count": 27,
   "metadata": {},
   "outputs": [
    {
     "name": "stdout",
     "output_type": "stream",
     "text": [
      "19\n",
      "<class 'int'>\n",
      "18\n"
     ]
    }
   ],
   "source": [
    "# So TO RETURN Value of function\n",
    "\n",
    "def test_with_return(a,b):\n",
    "    return a\n",
    "\n",
    "print(test_with_return(8,10) +11) #this will return 19\n",
    "print (type(test_with_return(8,10))) # this will retun integer\n",
    "print ((test_with_return(8,\"stringfor\") + 10))"
   ]
  },
  {
   "cell_type": "code",
   "execution_count": 31,
   "metadata": {},
   "outputs": [
    {
     "data": {
      "text/plain": [
       "int"
      ]
     },
     "execution_count": 31,
     "metadata": {},
     "output_type": "execute_result"
    }
   ],
   "source": [
    "def test_with_return(a,b):\n",
    "    return a*b\n",
    "\n",
    "test_with_return(10,20)\n",
    "type(test_with_return(10,20))"
   ]
  },
  {
   "cell_type": "code",
   "execution_count": null,
   "metadata": {},
   "outputs": [],
   "source": [
    "def test_with_return(a,b):\n",
    "    return a*b\n",
    "\n",
    "test_with_return(10,20)\n",
    "type(test_with_return(10,20))"
   ]
  },
  {
   "cell_type": "code",
   "execution_count": 52,
   "metadata": {},
   "outputs": [
    {
     "ename": "TypeError",
     "evalue": "'int' object is not iterable",
     "output_type": "error",
     "traceback": [
      "\u001b[1;31m---------------------------------------------------------------------------\u001b[0m",
      "\u001b[1;31mTypeError\u001b[0m                                 Traceback (most recent call last)",
      "\u001b[1;32m<ipython-input-52-b846bcb36caf>\u001b[0m in \u001b[0;36m<module>\u001b[1;34m\u001b[0m\n\u001b[0;32m      2\u001b[0m     \u001b[1;32mreturn\u001b[0m \u001b[0ma\u001b[0m\u001b[1;33m*\u001b[0m\u001b[0mb\u001b[0m\u001b[1;33m\u001b[0m\u001b[1;33m\u001b[0m\u001b[0m\n\u001b[0;32m      3\u001b[0m \u001b[1;33m\u001b[0m\u001b[0m\n\u001b[1;32m----> 4\u001b[1;33m \u001b[1;32mfor\u001b[0m \u001b[0mi\u001b[0m \u001b[1;32min\u001b[0m \u001b[0mtest_with_return\u001b[0m\u001b[1;33m(\u001b[0m\u001b[1;36m10\u001b[0m\u001b[1;33m,\u001b[0m\u001b[1;36m20\u001b[0m\u001b[1;33m)\u001b[0m\u001b[1;33m:\u001b[0m\u001b[1;33m\u001b[0m\u001b[1;33m\u001b[0m\u001b[0m\n\u001b[0m\u001b[0;32m      5\u001b[0m     \u001b[0mprint\u001b[0m\u001b[1;33m(\u001b[0m\u001b[0mi\u001b[0m\u001b[1;33m)\u001b[0m\u001b[1;33m\u001b[0m\u001b[1;33m\u001b[0m\u001b[0m\n",
      "\u001b[1;31mTypeError\u001b[0m: 'int' object is not iterable"
     ]
    }
   ],
   "source": [
    "def test_with_return(a,b):\n",
    "    return a*b\n",
    "\n",
    "for i in test_with_return(10,20):\n",
    "    print(i)"
   ]
  },
  {
   "cell_type": "code",
   "execution_count": 35,
   "metadata": {},
   "outputs": [
    {
     "data": {
      "text/plain": [
       "65"
      ]
     },
     "execution_count": 35,
     "metadata": {},
     "output_type": "execute_result"
    }
   ],
   "source": [
    "a =24\n",
    "b=35\n",
    "c=65\n",
    "# assiging values in different ways\n",
    "a,b,c = 24,35,65\n",
    "\n",
    "# Underscore will by default take 65\n",
    "a,b,_ = 24,35,65  # will take 65\n",
    "_"
   ]
  },
  {
   "cell_type": "code",
   "execution_count": 51,
   "metadata": {},
   "outputs": [
    {
     "data": {
      "text/plain": [
       "[65, 85]"
      ]
     },
     "execution_count": 51,
     "metadata": {},
     "output_type": "execute_result"
    }
   ],
   "source": [
    "_,_,_ =24,25,[65,85] # it will overwrite and give last value overwritten\n",
    "_"
   ]
  },
  {
   "cell_type": "code",
   "execution_count": 38,
   "metadata": {},
   "outputs": [
    {
     "name": "stdout",
     "output_type": "stream",
     "text": [
      "<class 'tuple'>\n"
     ]
    }
   ],
   "source": [
    "def test1(a,b,c):\n",
    "    return a,b,c\n",
    "\n",
    "print(test1(5,6,8)) #here it returns tuple values\n",
    "print(type(test1(5,6,8))) #here it returns tuple"
   ]
  },
  {
   "cell_type": "code",
   "execution_count": 49,
   "metadata": {},
   "outputs": [
    {
     "name": "stdout",
     "output_type": "stream",
     "text": [
      "(20, 30, 60)\n",
      "20 30 40\n",
      "40 40 40\n"
     ]
    }
   ],
   "source": [
    "def test1(a,b,c):\n",
    "    return a,b,c\n",
    "\n",
    "p=test1(20,30,60) # this will store values as tuple in p\n",
    "print(p)\n",
    "\n",
    "a,b,_=test1(20,30,40) # this will also store value in a,b,_\n",
    "print(a,b,_)\n",
    "\n",
    "#a,b=test1(a,b,c) # this will also store value in a,b, #this will give error as three values but storing in 2 variabletoo many values to unpack (exp\n",
    "#print(a,b,_)\n",
    "\n",
    "_,_,_ =test1(20,30,40)# THIS WILL RETURN 40 FOR ALL THREE VALUES AS IT OVERRITES\n",
    "print(_,_,_)"
   ]
  },
  {
   "cell_type": "code",
   "execution_count": 57,
   "metadata": {},
   "outputs": [
    {
     "ename": "TypeError",
     "evalue": "can only concatenate str (not \"int\") to str",
     "output_type": "error",
     "traceback": [
      "\u001b[1;31m---------------------------------------------------------------------------\u001b[0m",
      "\u001b[1;31mTypeError\u001b[0m                                 Traceback (most recent call last)",
      "\u001b[1;32m<ipython-input-57-c1bab179dd16>\u001b[0m in \u001b[0;36m<module>\u001b[1;34m\u001b[0m\n\u001b[0;32m      6\u001b[0m \u001b[1;32mdef\u001b[0m \u001b[0mtest3\u001b[0m\u001b[1;33m(\u001b[0m\u001b[0ma\u001b[0m\u001b[1;33m,\u001b[0m\u001b[0mb\u001b[0m\u001b[1;33m)\u001b[0m\u001b[1;33m:\u001b[0m\u001b[1;33m\u001b[0m\u001b[1;33m\u001b[0m\u001b[0m\n\u001b[0;32m      7\u001b[0m     \u001b[1;32mreturn\u001b[0m \u001b[0ma\u001b[0m\u001b[1;33m+\u001b[0m\u001b[0mb\u001b[0m\u001b[1;33m\u001b[0m\u001b[1;33m\u001b[0m\u001b[0m\n\u001b[1;32m----> 8\u001b[1;33m \u001b[0mtest3\u001b[0m\u001b[1;33m(\u001b[0m\u001b[1;34m\"hello\"\u001b[0m\u001b[1;33m,\u001b[0m\u001b[1;36m3\u001b[0m\u001b[1;33m)\u001b[0m \u001b[1;31m# this will give error as its trying to add string to number\u001b[0m\u001b[1;33m\u001b[0m\u001b[1;33m\u001b[0m\u001b[0m\n\u001b[0m",
      "\u001b[1;32m<ipython-input-57-c1bab179dd16>\u001b[0m in \u001b[0;36mtest3\u001b[1;34m(a, b)\u001b[0m\n\u001b[0;32m      5\u001b[0m \u001b[1;33m\u001b[0m\u001b[0m\n\u001b[0;32m      6\u001b[0m \u001b[1;32mdef\u001b[0m \u001b[0mtest3\u001b[0m\u001b[1;33m(\u001b[0m\u001b[0ma\u001b[0m\u001b[1;33m,\u001b[0m\u001b[0mb\u001b[0m\u001b[1;33m)\u001b[0m\u001b[1;33m:\u001b[0m\u001b[1;33m\u001b[0m\u001b[1;33m\u001b[0m\u001b[0m\n\u001b[1;32m----> 7\u001b[1;33m     \u001b[1;32mreturn\u001b[0m \u001b[0ma\u001b[0m\u001b[1;33m+\u001b[0m\u001b[0mb\u001b[0m\u001b[1;33m\u001b[0m\u001b[1;33m\u001b[0m\u001b[0m\n\u001b[0m\u001b[0;32m      8\u001b[0m \u001b[0mtest3\u001b[0m\u001b[1;33m(\u001b[0m\u001b[1;34m\"hello\"\u001b[0m\u001b[1;33m,\u001b[0m\u001b[1;36m3\u001b[0m\u001b[1;33m)\u001b[0m \u001b[1;31m# this will give error as its trying to add string to number\u001b[0m\u001b[1;33m\u001b[0m\u001b[1;33m\u001b[0m\u001b[0m\n",
      "\u001b[1;31mTypeError\u001b[0m: can only concatenate str (not \"int\") to str"
     ]
    }
   ],
   "source": [
    "def test2(a,b):\n",
    "    return a*b\n",
    "\n",
    "test2(\"hello\",3) # this will print 3 times 'hellohellohello'\n",
    "\n",
    "def test3(a,b):\n",
    "    return a+b\n",
    "test3(\"hello\",3) # this will give error as its trying to add string to number error:can only concatenate str (not \"int\") to str\n"
   ]
  },
  {
   "cell_type": "code",
   "execution_count": 2,
   "metadata": {},
   "outputs": [
    {
     "name": "stdout",
     "output_type": "stream",
     "text": [
      "[9]\n"
     ]
    }
   ],
   "source": [
    "# this will give error :int' object is not iterable\n",
    "#def test4(a):\n",
    " #   c=[]\n",
    "  #  for i in a:\n",
    "    #    c.append(i)\n",
    "     #   return c\n",
    "    \n",
    "#print(test4(9))\n",
    "\n",
    "# List is iterable\n",
    "def test4(a):\n",
    "    c=[]\n",
    "    for i in a:\n",
    "        c.append(i)\n",
    "        return c\n",
    "    \n",
    "print(test4((9,10,11)))"
   ]
  },
  {
   "cell_type": "code",
   "execution_count": 87,
   "metadata": {},
   "outputs": [
    {
     "name": "stdout",
     "output_type": "stream",
     "text": [
      "[[2, 5, 5, 7, 8]]\n"
     ]
    }
   ],
   "source": [
    "# Create a function which will take dictionary as a input and it will return list that has list as the values \n",
    "\n",
    "def accept_dict(a):\n",
    "    d =[]\n",
    "    for i in a.values():\n",
    "   \n",
    "        if type(i) == list:\n",
    "            d.append(i)\n",
    "    return d\n",
    "            \n",
    "c= {\"name\":[2,5,5,7,8],\"Age\":44}\n",
    "\n",
    "print(accept_dict(c))\n",
    "\n"
   ]
  },
  {
   "cell_type": "code",
   "execution_count": 3,
   "metadata": {},
   "outputs": [
    {
     "name": "stdout",
     "output_type": "stream",
     "text": [
      "jalpa\n",
      "naras\n",
      "838383\n"
     ]
    },
    {
     "data": {
      "text/plain": [
       "('jalpa', 'naras', '838383')"
      ]
     },
     "execution_count": 3,
     "metadata": {},
     "output_type": "execute_result"
    }
   ],
   "source": [
    "# create a function which will take all the information from user like a mail id , name, phone no\n",
    "def info_detail():\n",
    "    name= input()\n",
    "    mail=input()\n",
    "    phone= input()\n",
    "    return name,mail,phone\n",
    "\n",
    "info_detail()\n"
   ]
  },
  {
   "cell_type": "code",
   "execution_count": null,
   "metadata": {},
   "outputs": [],
   "source": [
    "#create a function which will take all the information from user like a mail id , name, phone no and return as Dictornary¶\n",
    "def ret_dict(): \n",
    "    name= input(\"Enter Name\") \n",
    "    mail=input(\"Enter Mail\") \n",
    "    phone=int(input()) \n",
    "    return {\"name\":name , \"phone\":phone , \"email\": mail}\n",
    "\n",
    "ret_dict()\n",
    "\n",
    "#create a functionthat passes information from user like a mail id , name, phone no and return as Dictornary\n",
    "n= input(\"Enter Name\") m=input(\"Enter Mail\") ph=int(input())\n",
    "\n",
    "def create_info(n,m,ph):\n",
    "    d={} \n",
    "    t = (n,m,ph) \n",
    "    for i in t:\n",
    "        d[i] =n return d\n",
    "\n",
    "create_info()"
   ]
  },
  {
   "cell_type": "code",
   "execution_count": 7,
   "metadata": {},
   "outputs": [
    {
     "name": "stdout",
     "output_type": "stream",
     "text": [
      "[(555, 85), (55, 9), (8, 5), (88, 2), (66, 5)]\n",
      "enter namedjajkfd\n",
      "enter Phonedkjak\n",
      "enter namefaljfd\n"
     ]
    },
    {
     "data": {
      "text/plain": [
       "{'name': 'djajkfd', 'phone': 'dkjak', 'email': 'faljfd'}"
      ]
     },
     "execution_count": 7,
     "metadata": {},
     "output_type": "execute_result"
    }
   ],
   "source": [
    "# Using ZIP Method what is zip it matches Key and Pair\n",
    "a =\"KSKSK\"\n",
    "b =\"dkjajfida\"\n",
    "\n",
    "list(zip(a,b))\n",
    "\n",
    "#[('K', 'd'), ('S', 'k'), ('K', 'j'), ('S', 'a'), ('K', 'j')]\n",
    "#here it matches each letter in a with b so a becomes key and b becomes value\n",
    "\n",
    "#example\n",
    "\n",
    "a =[555,55,8,88,66]\n",
    "b =[85,9,5,2,5,22]\n",
    "print(list(zip(a,b)))\n",
    "\n",
    "#[(555, 85), (55, 9), (8, 5), (88, 2), (66, 5)] here it will not take 22 as it dosent have pair\n",
    "#Create a function creating user information using ZIP and return dictonary\n",
    "\n",
    "\n",
    "def per_info(name,phone,email):\n",
    "    lst1 =[name,phone,email]\n",
    "    lst2 =[\"name\",\"phone\",\"email\"]\n",
    "    d={}\n",
    "    \n",
    "    for i,j in zip(lst1,lst2):\n",
    "        d[j]=i\n",
    "    return d\n",
    "    \n",
    "name = input(\"enter name\")\n",
    "phone= input(\"enter Phone\")\n",
    "email= input(\"enter name\")\n",
    "\n",
    "per_info(name,phone,email)"
   ]
  },
  {
   "cell_type": "code",
   "execution_count": 15,
   "metadata": {},
   "outputs": [
    {
     "data": {
      "text/plain": [
       "13"
      ]
     },
     "execution_count": 15,
     "metadata": {},
     "output_type": "execute_result"
    }
   ],
   "source": [
    "# pass various argument in function but use some to perfom operations\n",
    "\n",
    "def test(a,b,c,d):\n",
    "    return a*b\n",
    "\n",
    "# What is static of *args\n",
    "    # have to pass multiple arguments \n",
    "    # take any number of arguments\n",
    "    # We can use when we have to pass any number's of argmument or unkonwn how many to pass\n",
    "\n",
    "def stat_arg(*args):\n",
    "    return args\n",
    "\n",
    "\n",
    "stat_arg(\"hello\",88) # output ('hello', 88)\n",
    "stat_arg(\"hello2\",555,True,\"dkdkk\", {1,2,3,})\n",
    "\n",
    "\n",
    "#here we can even pass compulsory argument eg.a,b\n",
    "\n",
    "def with_info_some(*args,a,b):\n",
    "    return a+b\n",
    "\n",
    "#with_info_some(*args,6,7)# this will give error as it will not uderstand to take value for static args or a and b so\n",
    "\n",
    "with_info_some(a=6,b=7) # Need to specify the argument's are for a and b not for args\n",
    "\n",
    "\n"
   ]
  },
  {
   "cell_type": "code",
   "execution_count": 25,
   "metadata": {},
   "outputs": [
    {
     "name": "stdout",
     "output_type": "stream",
     "text": [
      "585\n",
      "559\n",
      "hello\n",
      "3\n"
     ]
    },
    {
     "data": {
      "text/plain": [
       "'3345'"
      ]
     },
     "execution_count": 25,
     "metadata": {},
     "output_type": "execute_result"
    }
   ],
   "source": [
    "# here we are checking if there are agruments that's >0 \n",
    "# the information is stored as tupple\n",
    "\n",
    "def test1(*args):\n",
    " if len(args)>0:\n",
    "        for i in args:\n",
    "            print(i)\n",
    "            \n",
    "test1()\n",
    "test1(585,559,\"hello\")\n",
    "\n",
    "\n",
    "def test2(*param,a,b):\n",
    " if len(param)>0:\n",
    "        for i in param:\n",
    "            print(i)\n",
    "            return a*b\n",
    "\n",
    "test2(3,6,8,9,a =10,b=12) \n",
    "#output :585\n",
    "#559\n",
    "#hello\n",
    "#3\n",
    "\n",
    "\n",
    "# function to convert to string for arg\n",
    "\n",
    "def test3(*param,a,b):\n",
    "    z=\"\" # here string\n",
    "    for i in param:\n",
    "        z=z+str(i) # here convetting to str as z is string\n",
    "    return z\n",
    "\n",
    "test3(3,3,4,5,a=7,b=10) # output '3345'\n",
    "\n",
    "\n",
    "### ARG IS NOT A KEYWORKD U CAN use any word"
   ]
  },
  {
   "cell_type": "code",
   "execution_count": 28,
   "metadata": {},
   "outputs": [
    {
     "data": {
      "text/plain": [
       "{'a': 34, 'b': 'akdjkjdkla', 'c': 'ieeiei'}"
      ]
     },
     "execution_count": 28,
     "metadata": {},
     "output_type": "execute_result"
    }
   ],
   "source": [
    "def test3(**kwargs):\n",
    "    return kwargs\n",
    "\n",
    "test3() # output {} (that is dictironary)\n",
    "\n",
    "# When u Want to Pass KEY VALUE PAIR Arguments\n",
    "# When Want to pass multiple values\n",
    "#the  difference between *args & **Kwargs \n",
    "    #**Kwargs take Key and Values as argument \n",
    "    # args has one * where as has two ** \n",
    "    #** Kwargs returns Dictonary where as *args return values as Tuple\n",
    "\n",
    "test3(a=34, b = \"akdjkjdkla\", c =\"ieeiei\") # output :{'a': 34, 'b': 'akdjkjdkla', 'c': 'ieeiei'}"
   ]
  },
  {
   "cell_type": "code",
   "execution_count": 32,
   "metadata": {},
   "outputs": [
    {
     "name": "stdout",
     "output_type": "stream",
     "text": [
      "[2, 3, 4, 5, 6, 6, 6]\n"
     ]
    }
   ],
   "source": [
    "#Here defining a function that takes kwargs thats's dictionary and see's if value is a list then returns that list values\n",
    "#again Kwargs is not a KEYWORD is u can use any name ** are required\n",
    "def test4(**kwargs):\n",
    "    for i in kwargs.values():\n",
    "        if type(i)==list:\n",
    "            print(i)\n",
    "   \n",
    "test4(a=34, b = \"akdjkjdkla\", c =\"ieeiei\", d =[2,3,4,5,6,6,6]) # output:[2, 3, 4, 5, 6, 6, 6]\n",
    "\n",
    "\n",
    "# its useful **kwargs when we use API passing key and values\n",
    "# in oop concept where we use an inheritance "
   ]
  },
  {
   "cell_type": "code",
   "execution_count": 41,
   "metadata": {},
   "outputs": [
    {
     "name": "stdout",
     "output_type": "stream",
     "text": [
      "14\n",
      "67\n",
      "100\n"
     ]
    }
   ],
   "source": [
    "# other way of creating fuction LAMBDA\n",
    "    # Mostly found in java or scala \n",
    "    # also know as anonymous function\n",
    "    # a function without name \n",
    "    #LAMBDA IS KEYWORD IN PYTHON\n",
    "\n",
    "a =12\n",
    "b= 2\n",
    "\n",
    "s = lambda a,b: a+b   # here passing argument and performing returning the value of operation storing in variable S\n",
    "\n",
    "print(s(a,b))\n",
    "print(s(45,22))\n",
    "\n",
    "\n",
    "#example\n",
    "\n",
    "l = lambda a,n: a **n  # ** means power \n",
    "\n",
    "print(l(10,2)) #output 100 (10*10)"
   ]
  },
  {
   "cell_type": "code",
   "execution_count": 42,
   "metadata": {},
   "outputs": [
    {
     "data": {
      "text/plain": [
       "(20, 40, 10)"
      ]
     },
     "execution_count": 42,
     "metadata": {},
     "output_type": "execute_result"
    }
   ],
   "source": [
    "g = lambda *args : args # here it takes mulitple argmument using *args\n",
    "g(20,40,10) # output (20, 40, 10)"
   ]
  },
  {
   "cell_type": "code",
   "execution_count": 47,
   "metadata": {},
   "outputs": [
    {
     "data": {
      "text/plain": [
       "[100, 400]"
      ]
     },
     "execution_count": 47,
     "metadata": {},
     "output_type": "execute_result"
    }
   ],
   "source": [
    "#d = lambda *args : for i in args \n",
    "# this will not work we need to write comprhensive statement means in brackets\n",
    "# for retuning type list [] or dict {}\n",
    "\n",
    "#comprehensive statemnt\n",
    "d = lambda *args :[i for i in args ]\n",
    "# here i before for will hold the values one by one recived from iteration and [] will store it as list and will give output as list comprehensive\n",
    "d(10,20,39) # output [10, 20, 39]\n",
    "\n",
    "\n",
    "f = lambda *args :[i** 2 for i in args ] # here it will perfom power of 2 on i\n",
    "f(10,20) #output [100, 400]"
   ]
  },
  {
   "cell_type": "code",
   "execution_count": 48,
   "metadata": {},
   "outputs": [
    {
     "data": {
      "text/plain": [
       "{10: 100, 20: 400, 39: 1521}"
      ]
     },
     "execution_count": 48,
     "metadata": {},
     "output_type": "execute_result"
    }
   ],
   "source": [
    "# To return DICTONARY using lamda function\n",
    "d1 = lambda *args :{i:i**2 for i in args } # will use {} as we need dictonary i is Key and i** will be value  so operation to be perfomed will be witten before for loop\n",
    "d1(10,20,39)\n",
    "#output {10: 100, 20: 400, 39: 1521}"
   ]
  },
  {
   "cell_type": "code",
   "execution_count": 54,
   "metadata": {},
   "outputs": [
    {
     "data": {
      "text/plain": [
       "[0, 1, 2]"
      ]
     },
     "execution_count": 54,
     "metadata": {},
     "output_type": "execute_result"
    }
   ],
   "source": [
    "#What is comprhensive statment\n",
    "#example  here we are returning list \n",
    "def test1(n):\n",
    "    l=[]\n",
    "    for i in range(n):\n",
    "        l.append(i)\n",
    "    return l\n",
    "\n",
    "#now if we want to use comprhensive statment\n",
    "    # first write loop for in range(10)\n",
    "    #the we put brackets which means it will return list []\n",
    "    #the value we want to caputre will be stored in i before for\n",
    "\n",
    "[i for i in range(10)] # output [0, 1, 2, 3, 4, 5, 6, 7, 8, 9] (this is comprehensive)\n",
    "\n",
    "a =lambda n:[i for i in range(n)] # here we are using lamda as we need n value to be taken from outside\n",
    "a(3) # this will take argument"
   ]
  }
 ],
 "metadata": {
  "kernelspec": {
   "display_name": "Python 3",
   "language": "python",
   "name": "python3"
  },
  "language_info": {
   "codemirror_mode": {
    "name": "ipython",
    "version": 3
   },
   "file_extension": ".py",
   "mimetype": "text/x-python",
   "name": "python",
   "nbconvert_exporter": "python",
   "pygments_lexer": "ipython3",
   "version": "3.8.5"
  }
 },
 "nbformat": 4,
 "nbformat_minor": 4
}
