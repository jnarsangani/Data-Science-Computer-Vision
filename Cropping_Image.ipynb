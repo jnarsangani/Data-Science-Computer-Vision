{
 "cells": [
  {
   "cell_type": "code",
   "execution_count": 3,
   "metadata": {},
   "outputs": [
    {
     "data": {
      "text/plain": [
       "-1"
      ]
     },
     "execution_count": 3,
     "metadata": {},
     "output_type": "execute_result"
    }
   ],
   "source": [
    "#Cropping the Image\n",
    "\n",
    "import cv2\n",
    "import numpy as np\n",
    "\n",
    "image = cv2.imread(r\"C:\\Users\\Dipak\\Desktop\\Rea\\priyanka.jfif\")\n",
    "height,width = image.shape[:2]\n",
    "\n",
    "#Lets get the starting pixel cordinates(top left of cropping rectangle)\n",
    "start_row, start_col = int(height *.25), int(width*.25) \n",
    "\n",
    "#Lets get the starting pixel cordinates(top left of cropping rectangle)\n",
    "end_row, end_col = int(height *.75), int(width*.75)\n",
    "\n",
    "# Simply use indexing to crop out the rectangle we desire\n",
    "\n",
    "cropped = image[start_row:end_row,start_col:end_col] # we can even use directly the pixel value\n",
    "\n",
    "cv2.imshow(\"Orignal\", image)\n",
    "cv2.waitKey(0)\n",
    "cv2.imshow(\"Cropped\", cropped)\n",
    "cv2.waitKey(0)"
   ]
  }
 ],
 "metadata": {
  "kernelspec": {
   "display_name": "Python 3",
   "language": "python",
   "name": "python3"
  },
  "language_info": {
   "codemirror_mode": {
    "name": "ipython",
    "version": 3
   },
   "file_extension": ".py",
   "mimetype": "text/x-python",
   "name": "python",
   "nbconvert_exporter": "python",
   "pygments_lexer": "ipython3",
   "version": "3.8.5"
  }
 },
 "nbformat": 4,
 "nbformat_minor": 4
}
