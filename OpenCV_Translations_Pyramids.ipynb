{
 "cells": [
  {
   "cell_type": "code",
   "execution_count": null,
   "metadata": {},
   "outputs": [],
   "source": [
    "# Transformation of images\n",
    "    #Affine\n",
    "        #Affine includes : Scaling,Translation,Rotation\n",
    "        #The line that are parallel images are also parallel in transformed images parllesim is always maintained\n",
    "    #Non Affine\n",
    "        #Know as Projective Transform and also called Homography\n",
    "        #Does maintain collinearity and incidence\n",
    "        #Does NOT preserve parallelism, length and angle\n",
    "        #Very common in computer Vision\n",
    "        #They orignate from different angle of cameras"
   ]
  },
  {
   "cell_type": "code",
   "execution_count": null,
   "metadata": {},
   "outputs": [],
   "source": [
    "#Translation Matrix\n",
    "    #    [1 0 Tx]\n",
    "    # T=\n",
    "    #   [0 1 Ty]\n",
    "    #Transition means movving in one direction up, down, left ,right or even diagnolly\n",
    "    # we use openCV function cv2.wrapAffine to implement this translation's\n",
    "    # Tx means moving in x direction (Horizontally)\n",
    "    #Tx means moving in x direction (Vertically)\n",
    "    \n",
    "    "
   ]
  },
  {
   "cell_type": "code",
   "execution_count": 13,
   "metadata": {},
   "outputs": [
    {
     "name": "stdout",
     "output_type": "stream",
     "text": [
      "[[ 1.    0.   50.25]\n",
      " [ 0.    1.   62.75]]\n"
     ]
    },
    {
     "data": {
      "text/plain": [
       "-1"
      ]
     },
     "execution_count": 13,
     "metadata": {},
     "output_type": "execute_result"
    }
   ],
   "source": [
    "import cv2\n",
    "import numpy as np\n",
    "\n",
    "img =cv2.imread(r\"C:\\Users\\Dipak\\Desktop\\Rea\\priyanka.jfif\")\n",
    "\n",
    "#store the height and weight of image\n",
    "height,width =img.shape[:2] \n",
    "# this take only 0 and 1 that is height and width the amount of pixel to be moved\n",
    "\n",
    "Quater_height,Quater_width = height/4,width/4 #that is tx and ty in translation matrix the amount of pixel to be moved\n",
    "\n",
    "#Translation Matrix\n",
    "T = np.float32([[1,0,Quater_height,],[0,1,Quater_width]])\n",
    "\n",
    "print(T) # if u refer to forluma 1,0, tx that is x direction 0,1,ty that is y direction\n",
    "\n",
    "img_trans =cv2.warpAffine(img, T,(width,height))\n",
    "cv2.imshow(\"Translation\",img_trans)\n",
    "cv2.waitKey(0)\n"
   ]
  },
  {
   "cell_type": "code",
   "execution_count": 17,
   "metadata": {},
   "outputs": [
    {
     "name": "stdout",
     "output_type": "stream",
     "text": [
      "[[ 6.123234e-17  1.000000e+00  2.500000e+01]\n",
      " [-1.000000e+00  6.123234e-17  2.260000e+02]]\n"
     ]
    },
    {
     "data": {
      "text/plain": [
       "-1"
      ]
     },
     "execution_count": 17,
     "metadata": {},
     "output_type": "execute_result"
    }
   ],
   "source": [
    "#Rotation of image\n",
    "    #Rotation Matrix here titha that is 0 is the angle of rotation\n",
    "    #    [cos0 - sin0]\n",
    "#M =\n",
    "    #    [sin0 - cos 0]\n",
    "    \n",
    "    \n",
    "import cv2\n",
    "import numpy as np\n",
    "\n",
    "img =cv2.imread(r\"C:\\Users\\Dipak\\Desktop\\Rea\\priyanka.jfif\")\n",
    "height,width =img.shape[:2] \n",
    "\n",
    "rotation_matrix = cv2.getRotationMatrix2D((width/2,height/2),90,1) # here widht/2,height/2 is the center point of the image 90 is rotation angle that is anticlock wise 1 is the scaling factor\n",
    "# here 1 for scaling so image is cut if u put .5 it will get whole image becoz height and width have change\n",
    "print(rotation_matrix)\n",
    "rotated_image = cv2.warpAffine(img, rotation_matrix ,(width,height)) # chaniging the h & W according to new may be tedious instead u can use transponse\n",
    "cv2.imshow(\"Rotated Image\",rotated_image)\n",
    "cv2.waitKey(0)"
   ]
  },
  {
   "cell_type": "code",
   "execution_count": 18,
   "metadata": {},
   "outputs": [
    {
     "data": {
      "text/plain": [
       "-1"
      ]
     },
     "execution_count": 18,
     "metadata": {},
     "output_type": "execute_result"
    }
   ],
   "source": [
    "# The other method of rotation where it adujust the h & W Without cropping and no black space\n",
    "import cv2\n",
    "import numpy as np\n",
    "\n",
    "img =cv2.imread(r\"C:\\Users\\Dipak\\Desktop\\Rea\\priyanka.jfif\")\n",
    "rotate_image = cv2.transpose(img)\n",
    "cv2.imshow(\"Rotated Image with transpose\",rotated_image)\n",
    "cv2.waitKey(0)\n"
   ]
  },
  {
   "cell_type": "code",
   "execution_count": 1,
   "metadata": {},
   "outputs": [],
   "source": [
    "#Resizing and scaling and Interpolation\n",
    "    #Resizing invloves interpolation\n",
    "    #interpolation mean's when we resize how do we find the gap's betweeen pixels\n",
    "    #Suppose Enlaging the image the gap between pixel how do we fill it or generate pixel\n",
    "    #Types of interpolation\n",
    "\n",
    "import cv2\n",
    "import numpy as np\n",
    "\n",
    "image = cv2.imread(r\"C:\\Users\\Dipak\\Desktop\\Rea\\priyanka.jfif\")\n",
    "#Scaling the orignal image\n",
    "#BY DEFAULT IT USES INTER LINEAR\n",
    "scaled_image = cv2.resize(image, None, fx =0.75,fy=0.75) # scaling fx fy 0.75 means 3 quater\n",
    "cv2.imshow(\"Scaled Image\",scaled_image)\n",
    "\n",
    "#Lets double the sizof image\n",
    "scaled_image_inter =cv2.resize(image, None, fx=2,fy=2, interpolation = cv2.INTER_CUBIC)\n",
    "cv2.imshow(\"Scaled Image\",scaled_image_inter)\n",
    "\n",
    "#Lets Skew the size of the image\n",
    "scaled_image_Area =cv2.resize(image, (400,900), interpolation = cv2.INTER_AREA) # 400,900 is the dimension we want (that is heigh and width)\n",
    "cv2.imshow(\"Scaled Image\",scaled_image_Area)\n"
   ]
  },
  {
   "cell_type": "code",
   "execution_count": 2,
   "metadata": {},
   "outputs": [],
   "source": [
    "#IMAGE PYRAMIDS\n",
    "    #Means shrinking and enlarging multiple copies of the image\n",
    "    #Used in OBJECT DETECTION\n",
    "    \n",
    "import cv2\n",
    "image = cv2.imread(r\"C:\\Users\\Dipak\\Desktop\\Rea\\priyanka.jfif\")\n",
    "smaller_image =cv2.pyrDown(image) # half of the orginal image\n",
    "larger_image = cv2.pyrUp(image) # doubles the size\n",
    "\n",
    "cv2.imshow(\"Orignal\", image)\n",
    "cv2.imshow(\"Smaller\", smaller_image)\n",
    "cv2.imshow(\"Larger\", larger_image)\n",
    "cv2.waitKey(0)\n",
    "cv2.destroyAllWindows()"
   ]
  }
 ],
 "metadata": {
  "kernelspec": {
   "display_name": "Python 3",
   "language": "python",
   "name": "python3"
  },
  "language_info": {
   "codemirror_mode": {
    "name": "ipython",
    "version": 3
   },
   "file_extension": ".py",
   "mimetype": "text/x-python",
   "name": "python",
   "nbconvert_exporter": "python",
   "pygments_lexer": "ipython3",
   "version": "3.8.5"
  }
 },
 "nbformat": 4,
 "nbformat_minor": 4
}
