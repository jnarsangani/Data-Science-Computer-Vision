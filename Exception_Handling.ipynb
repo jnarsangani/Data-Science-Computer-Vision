{
 "cells": [
  {
   "cell_type": "code",
   "execution_count": 5,
   "metadata": {},
   "outputs": [
    {
     "name": "stdout",
     "output_type": "stream",
     "text": [
      "2\n",
      "5.0\n",
      "ddkdk\n",
      "There was a issue with b variable\n",
      "invalid literal for int() with base 10: 'ddkdk'\n"
     ]
    }
   ],
   "source": [
    "#Exception Handling\n",
    "    #Use to handle exception\n",
    "    #If one code breaks then the other code is executed becoz of exception handling\n",
    "    \n",
    "# in the below example the user may even pass a string but due to try except it will not throw error\n",
    "# when error comes it passes the control to except blog\n",
    "# it is used to capture the exception \n",
    "#in exception body u can even provide code\n",
    "# There is no Keyword as catch as java in python its except\n",
    "\n",
    "try :\n",
    "    a =10\n",
    "    b = int(input())\n",
    "    c= a/b\n",
    "    print(c)\n",
    "except:\n",
    "    pass\n",
    "\n",
    "\n",
    "try :\n",
    "    a =10\n",
    "    b = int(input())\n",
    "    c= a/b\n",
    "    print(c)\n",
    "except Exception as e:\n",
    "    print(\"There was a issue with b variable\")\n",
    "    print(e)\n",
    "    "
   ]
  },
  {
   "cell_type": "code",
   "execution_count": 8,
   "metadata": {},
   "outputs": [
    {
     "name": "stdout",
     "output_type": "stream",
     "text": [
      "kfkkf\n",
      "invalid literal for int() with base 10: 'kfkkf'\n",
      "This will execute only if it fails\n"
     ]
    }
   ],
   "source": [
    "#if u write try u have to mention except its mandatory blocks\n",
    "# if try is sucessful then only else will execute ELSE\n",
    "#only python has else option for try\n",
    "# otherwise will go to exception\n",
    "\n",
    "try :\n",
    "    a =input()\n",
    "    b = int(a) # this will fail when input is string so except blog will execute\n",
    "    print(b)\n",
    "except Exception as e:\n",
    "    print(e)\n",
    "    print(\"This will execute only if it fails\")\n",
    "else:\n",
    "    print(\"This will exectue only if try will excuted successfully then only it run\")\n",
    "    "
   ]
  },
  {
   "cell_type": "code",
   "execution_count": null,
   "metadata": {},
   "outputs": [],
   "source": [
    "#FINALLY can be used it is used to execute itself\n",
    "#Finally are not mendotry blocks\n",
    "# Even if try fails but it will execute Finally in all situation\n",
    "#Finally will execute if try fails or sucesss \n",
    "#if sucess it will go to else and execute finally\n",
    "#if try fails it will got to excption and finally will execute\n",
    "try :\n",
    "    a =input()\n",
    "    b = int(a) # this will fail when input is string so except blog will execute\n",
    "    print(b)\n",
    "except Exception as e:\n",
    "    print(e)\n",
    "    print(\"This will execute only if it fails\")\n",
    "finally:\n",
    "    print(\"It will execute itself in all the statments\")"
   ]
  },
  {
   "cell_type": "code",
   "execution_count": 13,
   "metadata": {},
   "outputs": [
    {
     "name": "stdout",
     "output_type": "stream",
     "text": [
      "55\n",
      "kjj\n",
      "invalid literal for int() with base 10: 'kjj' Its value error\n",
      "Even Pass or fail\n"
     ]
    }
   ],
   "source": [
    "#Exception will handle all error\n",
    "#You can mention different type of except for different type of error\n",
    "#If it matches the error it goes to that exception body\n",
    "#if the matching exception error is not found it will give error\n",
    "#for handling not found matching error we can use exception as e (so we can know the errror)\n",
    "    #types of error:\n",
    "        # IOerror : input output error (except IOerror as e:)\n",
    "        # ValueError: value error (except ValueError as e:)\n",
    "\n",
    "try:\n",
    "    a= int(input())\n",
    "    b= int(input())\n",
    "    c = a+b\n",
    "except IOError as e:\n",
    "    print(e,\"In case of IOError\")\n",
    "except ArithmeticError as e:\n",
    "    print(e,\"in case of Arithmetic Error\")\n",
    "except FileNotFoundError as e:\n",
    "    print(e,\"File error\")\n",
    "except ValueError as e:\n",
    "    print(e,\"Its value error\")\n",
    "except Exception as e: # this is main class and all other ioerror, valuerror are sub class so if u write exception first it will meet the condition and will not go to other errors\n",
    "    print(e,\"This is exception Error\")\n",
    "else:\n",
    "    print(\"Only of if Sucessful\")\n",
    "finally:\n",
    "    print(\"Even Pass or fail\")\n",
    "    "
   ]
  },
  {
   "cell_type": "code",
   "execution_count": 15,
   "metadata": {},
   "outputs": [
    {
     "name": "stdout",
     "output_type": "stream",
     "text": [
      "Enter an integer10\n"
     ]
    },
    {
     "data": {
      "text/plain": [
       "10"
      ]
     },
     "execution_count": 15,
     "metadata": {},
     "output_type": "execute_result"
    }
   ],
   "source": [
    "# how do we write\n",
    "# You can enter multiple time try and catch and anyplaces\n",
    "# You can NOT WRITE ELSE BLOCK AFTER FINALLY U NEED TO WRITE BEFORE FINALLY\n",
    "\n",
    "def test():\n",
    "    try:\n",
    "        a =int(input(\"Enter an integer\"))\n",
    "        return a\n",
    "    except:\n",
    "        print(\"Ask to enter a value \")\n",
    "    try:\n",
    "         a =int(input(\"Enter an integer\"))\n",
    "    except:\n",
    "        print(\"This is second time enter an integer value \")\n",
    "    \n",
    "\n",
    "test()"
   ]
  },
  {
   "cell_type": "code",
   "execution_count": 19,
   "metadata": {},
   "outputs": [
    {
     "name": "stdout",
     "output_type": "stream",
     "text": [
      "Enter an integerflfl\n",
      "There is an issue invalid literal for int() with base 10: 'flfl'\n",
      "Enter an integerffk\n",
      "There is an issue invalid literal for int() with base 10: 'ffk'\n",
      "Enter an integerfkfk\n",
      "There is an issue invalid literal for int() with base 10: 'fkfk'\n",
      "Enter an integer10\n",
      "It was able to execute try with success\n"
     ]
    }
   ],
   "source": [
    "# here it will continue to ask for a value until integer not entered\n",
    "def test2():\n",
    "    while True:\n",
    "        try:\n",
    "            a =a =int(input(\"Enter an integer\"))\n",
    "   \n",
    "        except Exception as e:\n",
    "            print(\"There is an issue\",e)\n",
    "            continue # it will send back control to loop if it has not enterd proper value\n",
    "   \n",
    "        else:\n",
    "            print(\"It was able to execute try with success\")\n",
    "            break\n",
    "        \n",
    "test2()"
   ]
  },
  {
   "cell_type": "code",
   "execution_count": 28,
   "metadata": {},
   "outputs": [
    {
     "name": "stdout",
     "output_type": "stream",
     "text": [
      "Enter an integer2\n",
      "THIS IS NOT VALID \n"
     ]
    }
   ],
   "source": [
    "# Create your own exception\n",
    "#Using Raise Exception\n",
    "\n",
    "def cust_exception(a):\n",
    "    if a <5:\n",
    "        raise Exception(\"THIS IS NOT VALID Enter value less than 5\") \n",
    "    else:\n",
    "        return a\n",
    "        \n",
    "        \n",
    "\n",
    "        \n",
    "try:\n",
    "    a= int(input(\"Enter an integer\"))\n",
    "    b = cust_exception(a)\n",
    "    print(b)\n",
    "except Exception as e:\n",
    "    print(e)"
   ]
  },
  {
   "cell_type": "code",
   "execution_count": 30,
   "metadata": {},
   "outputs": [
    {
     "name": "stdout",
     "output_type": "stream",
     "text": [
      "invalid literal for int() with base 10: 'hello'\n",
      "25\n",
      "36\n"
     ]
    }
   ],
   "source": [
    "#Exception in for loop\n",
    "l = [\"hello\",5,6]\n",
    "\n",
    "for i in l:\n",
    "    try:\n",
    "        mul = int(i) * int(i)\n",
    "        print(mul)\n",
    "    except Exception as e:\n",
    "        print(e)\n",
    "        "
   ]
  },
  {
   "cell_type": "code",
   "execution_count": 37,
   "metadata": {},
   "outputs": [
    {
     "name": "stdout",
     "output_type": "stream",
     "text": [
      "this is a value error\n",
      "25\n",
      "36\n",
      "this is a value error\n",
      "25\n",
      "36\n"
     ]
    }
   ],
   "source": [
    "l = [\"hello\",5,6]\n",
    "\n",
    "for i in l:\n",
    "    try:\n",
    "        if type(i) ==str:\n",
    "            raise ValueError(\"this is a value error\") #here we are raising our own error\n",
    "        else:\n",
    "            mul = int(i) * int(i)\n",
    "            print(mul)\n",
    "        \n",
    "    except Exception as e:\n",
    "        print(e)\n",
    "        \n",
    "\n",
    "#other method\n",
    "\n",
    "l = [\"hello\",5,6]\n",
    "\n",
    "for i in l:\n",
    "    try:\n",
    "        if type(i) ==str:\n",
    "            raise ValueError(\"this is a value error\") #here we are raising our own error\n",
    "        else:\n",
    "            mul = int(i) * int(i)\n",
    "            print(mul)\n",
    "        \n",
    "    except ValueError as e:\n",
    "        print(e)"
   ]
  },
  {
   "cell_type": "code",
   "execution_count": 46,
   "metadata": {},
   "outputs": [
    {
     "name": "stdout",
     "output_type": "stream",
     "text": [
      "2.0\n",
      "None\n",
      "0.0\n",
      "None\n",
      "2.8284271247461903\n",
      "None\n",
      "Value is less than Zero\n"
     ]
    }
   ],
   "source": [
    "# examples\n",
    "\n",
    "import math\n",
    "def test3(a):\n",
    "    if type(a)!= int:\n",
    "        raise TypeError(\"This is typing mistake\",a)\n",
    "        \n",
    "    elif a <0:\n",
    "        raise Exception(\"Value is less than Zero\")\n",
    "    else:\n",
    "        print(math.sqrt(a))\n",
    "        \n",
    "\n",
    "print(test3(4))\n",
    "print(test3(0))\n",
    "#print(test3(-1)) # this will give error so u can even add this code in try and except\n",
    "print(test3(8))\n",
    "\n",
    "\n",
    "try:\n",
    "    print(test3(-1))\n",
    "except Exception as e:\n",
    "    print(e) # this will show the custuom exception"
   ]
  }
 ],
 "metadata": {
  "kernelspec": {
   "display_name": "Python 3",
   "language": "python",
   "name": "python3"
  },
  "language_info": {
   "codemirror_mode": {
    "name": "ipython",
    "version": 3
   },
   "file_extension": ".py",
   "mimetype": "text/x-python",
   "name": "python",
   "nbconvert_exporter": "python",
   "pygments_lexer": "ipython3",
   "version": "3.8.5"
  }
 },
 "nbformat": 4,
 "nbformat_minor": 4
}
