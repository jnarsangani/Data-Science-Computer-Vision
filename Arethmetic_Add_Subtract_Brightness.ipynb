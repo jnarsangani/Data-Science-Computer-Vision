{
 "cells": [
  {
   "cell_type": "code",
   "execution_count": 1,
   "metadata": {},
   "outputs": [],
   "source": [
    "import cv2\n",
    "import numpy as np\n",
    "\n",
    "image =cv2.imread(r\"C:\\Users\\Dipak\\Desktop\\Rea\\priyanka.jfif\")\n",
    "\n",
    "# Create a matrix of ones and multiply it by a scaler of 100\n",
    "M = np.ones(image.shape, dtype =\"uint8\")*75 \n",
    "# here *75 pixel intesity if its *175 it will get more dark if we subtract and more white when we add remember pixel value cant be less or more than 0 and 255\n",
    "\n",
    "#ADD INCREASES the brightness of the image\n",
    "added = cv2.add(image,M)\n",
    "cv2.imshow(\"Brigthness with Added\", added)\n",
    "\n",
    "#Subtract DECREASES the brightness of the image\n",
    "Substract = cv2.subtract(image,M)\n",
    "cv2.imshow(\"Decrease the brightness\", Substract)\n"
   ]
  }
 ],
 "metadata": {
  "kernelspec": {
   "display_name": "Python 3",
   "language": "python",
   "name": "python3"
  },
  "language_info": {
   "codemirror_mode": {
    "name": "ipython",
    "version": 3
   },
   "file_extension": ".py",
   "mimetype": "text/x-python",
   "name": "python",
   "nbconvert_exporter": "python",
   "pygments_lexer": "ipython3",
   "version": "3.8.5"
  }
 },
 "nbformat": 4,
 "nbformat_minor": 4
}
