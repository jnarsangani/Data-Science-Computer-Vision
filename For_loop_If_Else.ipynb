{
 "cells": [
  {
   "cell_type": "code",
   "execution_count": 2,
   "metadata": {},
   "outputs": [
    {
     "name": "stdout",
     "output_type": "stream",
     "text": [
      "2\n",
      "3\n",
      "4\n",
      "5\n",
      "7\n",
      "8\n",
      "9\n"
     ]
    }
   ],
   "source": [
    "# For Loop To access Values in List\n",
    "l =[2,3,4,5,7,8,9]\n",
    "    \n",
    "for i in l:\n",
    "    print(i)"
   ]
  },
  {
   "cell_type": "code",
   "execution_count": 46,
   "metadata": {},
   "outputs": [
    {
     "name": "stdout",
     "output_type": "stream",
     "text": [
      "[1, 3, 4, 5, {2, 3, 4, 5}, {'name': 'Fagun'}]\n",
      "This is Dict type {'name': 'Fagun'}\n"
     ]
    }
   ],
   "source": [
    "#Accessing value with if Condition and Finding out Value by type of value\n",
    "l1 = [1,3,4,5, {2,3,4,5},{\"name\" : \"Fagun\"}]\n",
    "print (l1)\n",
    "\n",
    "for i in l1:\n",
    "    if type(i)== dict:\n",
    "        print(\"This is Dict type\",i)"
   ]
  },
  {
   "cell_type": "code",
   "execution_count": 12,
   "metadata": {},
   "outputs": [
    {
     "name": "stdout",
     "output_type": "stream",
     "text": [
      "[1, 3, 4, 5, {2, 3, 4, 5}, {'name': 'Fagun'}]\n",
      "This is set type {2, 3, 4, 5}\n",
      "The value of j does not match\n",
      "The value of set type that is 3 3\n",
      "The value of j does not match\n",
      "The value of j does not match\n"
     ]
    }
   ],
   "source": [
    "#Accessing value with if Condition where type is set and value is 3\n",
    "l1 = [1,3,4,5, {2,3,4,5},{\"name\" : \"Fagun\"}]\n",
    "print (l1)\n",
    "\n",
    "for i in l1:\n",
    "    if type(i)== set:\n",
    "        print(\"This is set type\",i)\n",
    "        for j in i:\n",
    "            if j==3:\n",
    "                print(\"The value of set type that is 3\",j)\n",
    "                \n"
   ]
  },
  {
   "cell_type": "code",
   "execution_count": 55,
   "metadata": {},
   "outputs": [
    {
     "name": "stdout",
     "output_type": "stream",
     "text": [
      "name\n",
      "age\n",
      "Fagun\n",
      "44\n"
     ]
    }
   ],
   "source": [
    "#Accessing the Key and values in  Dict\n",
    "\n",
    "l1 = {\"name\" : \"Fagun\", \"age\":44}\n",
    "\n",
    "for i in l1.keys():\n",
    "    print(i)\n",
    "\n",
    "\n",
    "for i in l1.values():\n",
    "    print(i)"
   ]
  },
  {
   "cell_type": "code",
   "execution_count": 60,
   "metadata": {},
   "outputs": [
    {
     "name": "stdout",
     "output_type": "stream",
     "text": [
      "The values at the list are < 6 1\n",
      "The values at the list are < 6 3\n",
      "The values at the list are < 6 4\n",
      "The values at the list are < 6 5\n",
      "The values at the list are < 6 6\n",
      "The values at the List are > 6 8\n",
      "The values at the List are > 6 9\n",
      "The values at the List are > 6 10\n",
      "The values at the list are < 6 4\n",
      "The values at the list are < 6 6\n",
      "The values at the List are > 6 7\n",
      "The values at the list are < 6 2\n"
     ]
    }
   ],
   "source": [
    "#Accesssing value in string\n",
    "#Accessing DICT value with if Condition eg. the values is list and with condition where value in list is >6\n",
    "#The ITEMS() Returns a TUPLE OF KEY AND VALUES SO TO ACCESS KEYS [0] and VALUES[1]\n",
    "l = {\"name\":[1,3,4,5,6,8,9], \"Age\":[10,4,6,7,2]}\n",
    "for i in l.items():\n",
    "    if type(i[1])==list:\n",
    "        for j in i[1]:\n",
    "            if j>6:\n",
    "                print(\"The values at the List are > 6\",j)\n",
    "            else:\n",
    "                print(\"The values at the list are < 6\", j)\n",
    "\n"
   ]
  },
  {
   "cell_type": "code",
   "execution_count": 57,
   "metadata": {},
   "outputs": [
    {
     "name": "stdout",
     "output_type": "stream",
     "text": [
      "h\n",
      "o\n",
      "w\n",
      " \n",
      "r\n",
      " \n",
      "u\n"
     ]
    }
   ],
   "source": [
    "#Accessing String\n",
    "for i in s:\n",
    "    print(i)"
   ]
  },
  {
   "cell_type": "code",
   "execution_count": null,
   "metadata": {},
   "outputs": [],
   "source": [
    "# We can access SET With FOR LOOP as set is not mutable as it does not store data in sequence internally or cannot be updated"
   ]
  },
  {
   "cell_type": "code",
   "execution_count": 2,
   "metadata": {},
   "outputs": [
    {
     "name": "stdout",
     "output_type": "stream",
     "text": [
      "1\n",
      "4\n",
      "5\n",
      "6\n",
      "8\n",
      "9\n",
      "IT's Done\n"
     ]
    }
   ],
   "source": [
    "# In PYTHON there is ELSE option for loop\n",
    "# This will excute only if for Loop is successful for loop should complete\n",
    "\n",
    "l=[1,4,5,6,8,9]\n",
    "\n",
    "for i in l:\n",
    "    print(i)\n",
    "else:\n",
    "    print(\"IT's Done\") # This will excute only if for Loop is successful"
   ]
  },
  {
   "cell_type": "code",
   "execution_count": null,
   "metadata": {},
   "outputs": [],
   "source": [
    "# There is Break option when you want to break a loop\n",
    "# Here loop is not completed as we break it so  else will not execute\n",
    "l=[1,4,5,6,8,9]\n",
    "\n",
    "for i in l:\n",
    "    if i == 4\n",
    "        print(i)\n",
    "        break\n",
    "else:\n",
    "    print(\"IT's Done\") # This will NOT excute As it BREAK at 4"
   ]
  },
  {
   "cell_type": "code",
   "execution_count": 3,
   "metadata": {},
   "outputs": [
    {
     "name": "stdout",
     "output_type": "stream",
     "text": [
      "1\n",
      "4\n",
      "5\n",
      "6\n",
      "8\n",
      "9\n",
      "IT's Done\n",
      "Second time print\n",
      "Second time print\n",
      "Second time print\n",
      "Second time print\n",
      "Second time print\n",
      "Second time print\n"
     ]
    }
   ],
   "source": [
    "# Even can include for loop in else option but the else  will execute only if the for is completed\n",
    "l=[1,4,5,6,8,9]\n",
    "\n",
    "for i in l:\n",
    "    print(i)   \n",
    "else:\n",
    "    print(\"IT's Done\") \n",
    "    for i in l:\n",
    "        print(\"Second time print\")\n",
    "    "
   ]
  },
  {
   "cell_type": "code",
   "execution_count": 13,
   "metadata": {},
   "outputs": [
    {
     "name": "stdout",
     "output_type": "stream",
     "text": [
      " *  \n",
      " *  *  \n",
      " *  *  *  \n",
      " *  *  *  *  \n",
      " *  *  *  *  *  \n",
      " *  *  *  *  *  *  \n",
      " *  *  *  *  *  *  *  \n"
     ]
    }
   ],
   "source": [
    "for i in range(0,7):\n",
    "    for j in range(0,i+1):\n",
    "        print(\" * \", end =\"\")\n",
    "        \n",
    "    print(\" \")\n",
    "    \n",
    "        "
   ]
  },
  {
   "cell_type": "code",
   "execution_count": 16,
   "metadata": {},
   "outputs": [
    {
     "name": "stdout",
     "output_type": "stream",
     "text": [
      "1\n",
      "2\n",
      "3\n",
      "4\n",
      "5\n",
      "6\n",
      "7\n"
     ]
    }
   ],
   "source": [
    "# While loop \n",
    "a = 1\n",
    "while a <=7:\n",
    " print(a)\n",
    " a=a+1"
   ]
  },
  {
   "cell_type": "code",
   "execution_count": 31,
   "metadata": {},
   "outputs": [
    {
     "name": "stdout",
     "output_type": "stream",
     "text": [
      "1\n",
      "2\n",
      "3\n",
      "5\n",
      "6\n",
      "7\n"
     ]
    }
   ],
   "source": [
    "# here we use CONTINUE which mean's it will skip that value where it meets the condition in this example\n",
    "x=0\n",
    "while x < 7:\n",
    "    x= x+1\n",
    "    if x==4:\n",
    "        continue\n",
    "    print(x)"
   ]
  },
  {
   "cell_type": "code",
   "execution_count": 32,
   "metadata": {},
   "outputs": [
    {
     "name": "stdout",
     "output_type": "stream",
     "text": [
      "1\n",
      "2\n",
      "3\n"
     ]
    }
   ],
   "source": [
    "# here we use BREAK which mean's it will BREAK from where it meets the condition in this example\n",
    "x=0\n",
    "while x < 7:\n",
    "    x= x+1\n",
    "    if x==4:\n",
    "        break\n",
    "    print(x)"
   ]
  },
  {
   "cell_type": "code",
   "execution_count": 35,
   "metadata": {},
   "outputs": [
    {
     "name": "stdout",
     "output_type": "stream",
     "text": [
      "Continued\n"
     ]
    }
   ],
   "source": [
    "# Here else of for loop will execute because the loop is completed\n",
    "for i in range(10):\n",
    "    if i ==4:\n",
    "        continue\n",
    "else:\n",
    "    print(\"Continued\")"
   ]
  },
  {
   "cell_type": "code",
   "execution_count": 38,
   "metadata": {},
   "outputs": [
    {
     "name": "stdout",
     "output_type": "stream",
     "text": [
      "0\n",
      "1\n",
      "2\n",
      "3\n"
     ]
    }
   ],
   "source": [
    "# Here else of for loop will NOT execute because the loop is not completed because of break\n",
    "for i in range(10):\n",
    "    if i ==4:\n",
    "        break\n",
    "    print(i)\n",
    "else:\n",
    "    print(\"Continued\")"
   ]
  },
  {
   "cell_type": "code",
   "execution_count": 39,
   "metadata": {},
   "outputs": [],
   "source": [
    "#Defining a for loop but Dont want to define Body then u can use Keyword PASS\n",
    "\n",
    "for i in range(10):\n",
    "    pass"
   ]
  },
  {
   "cell_type": "code",
   "execution_count": 51,
   "metadata": {},
   "outputs": [
    {
     "name": "stdout",
     "output_type": "stream",
     "text": [
      "5\n",
      "1\n",
      "2\n",
      "0\n",
      "-1\n",
      "['', 'jk', 'kkkkkk', 'kkkkk']\n",
      "['dkdk', 'dkkd', 'kdm', 'dd']\n",
      "dkdk\n",
      "dkkd\n",
      "kdm\n",
      "dd\n",
      "['\"Watching the River Flow\" is a blues rock song by American singer Bob Dylan, released as a single on June 3, 1971', ' Produced by Leon Russell, it was written and recorded during a session in March 1971 at Blue Rock Studio in New York City', \" The collaboration with Russell formed in part through Dylan's desire for a new sound, after a period of immersion in country rock music\", \" The song has been interpreted as Dylan's account of his writer's block in the early 1970s, and his wish to deliver less politically engaged material and find a new balance between public and private life\", ' A minor hit in some countries,']\n",
      "\"Watching the River Flow\" is a blues rock song by American singer Bob Dylan, released as a single on June 3, 1971\n",
      " Produced by Leon Russell, it was written and recorded during a session in March 1971 at Blue Rock Studio in New York City\n",
      " The collaboration with Russell formed in part through Dylan's desire for a new sound, after a period of immersion in country rock music\n",
      " The song has been interpreted as Dylan's account of his writer's block in the early 1970s, and his wish to deliver less politically engaged material and find a new balance between public and private life\n",
      " A minor hit in some countries,\n"
     ]
    }
   ],
   "source": [
    "# Inbuild functions\n",
    "a =\"jello\"\n",
    "print(len(a)) # Gives the lenght \n",
    "\n",
    "print(a.find('e')) # Gives the index of the letter will give the index of the first index the lowest once means first occourance\n",
    "\n",
    "print(a.count('l')) # count's the number of accourance\n",
    "\n",
    "print(a.count(\"J\")) # It will give 0 as its case sensitive\n",
    "\n",
    "print(a.find(\"jfjfj\")) # it will give -1 as there is no match\n",
    "\n",
    "b =\"djkdkkkkkkdkkkkk\"\n",
    "print (b.split('d')) # it will split the data from mentioned character\n",
    "\n",
    "g =\"dkdk,dkkd,kdm,dd\"\n",
    "print (g.split(',')) # split by comma as mentioned comma as sepreator\n",
    "\n",
    "for i in g.split(','): # split  by line or access each part of string\n",
    "    print(i)\n",
    "\n",
    "\n",
    "s = \"\"\"\"Watching the River Flow\" is a blues rock song by American singer Bob Dylan, released as a single on June 3, 1971. Produced by Leon Russell, it was written and recorded during a session in March 1971 at Blue Rock Studio in New York City. The collaboration with Russell formed in part through Dylan's desire for a new sound, after a period of immersion in country rock music. The song has been interpreted as Dylan's account of his writer's block in the early 1970s, and his wish to deliver less politically engaged material and find a new balance between public and private life. A minor hit in some countries,\"\"\"\n",
    "\n",
    "print(s.split('.'))\n",
    "\n",
    "for i in s.split('.'):\n",
    "    print(i)"
   ]
  }
 ],
 "metadata": {
  "kernelspec": {
   "display_name": "Python 3",
   "language": "python",
   "name": "python3"
  },
  "language_info": {
   "codemirror_mode": {
    "name": "ipython",
    "version": 3
   },
   "file_extension": ".py",
   "mimetype": "text/x-python",
   "name": "python",
   "nbconvert_exporter": "python",
   "pygments_lexer": "ipython3",
   "version": "3.8.5"
  }
 },
 "nbformat": 4,
 "nbformat_minor": 4
}
